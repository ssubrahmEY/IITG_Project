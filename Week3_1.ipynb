{
 "cells": [
  {
   "cell_type": "code",
   "execution_count": 1,
   "metadata": {},
   "outputs": [
    {
     "name": "stdout",
     "output_type": "stream",
     "text": [
      "[-10, -3, 0, 5, 9]\n"
     ]
    }
   ],
   "source": [
    "class TreeNode:\n",
    "    def __init__(self, val=0, left=None, right=None):\n",
    "        self.val = val\n",
    "        self.left = left\n",
    "        self.right = right\n",
    "\n",
    "def sortedArrayToBST(nums):\n",
    "    # Base case: if the array is empty, return None\n",
    "    if not nums:\n",
    "        return None\n",
    "    \n",
    "    # Find the middle element\n",
    "    mid = len(nums) // 2\n",
    "    \n",
    "    # Create the root node with the middle element\n",
    "    root = TreeNode(nums[mid])\n",
    "    \n",
    "    # Recursively build the left and right subtrees\n",
    "    root.left = sortedArrayToBST(nums[:mid])  # Left half\n",
    "    root.right = sortedArrayToBST(nums[mid+1:])  # Right half\n",
    "    \n",
    "    return root\n",
    "\n",
    "# Example usage:\n",
    "nums = [-10, -3, 0, 5, 9]\n",
    "root = sortedArrayToBST(nums)\n",
    "\n",
    "# Helper function to print the tree (in-order traversal)\n",
    "def inorderTraversal(node):\n",
    "    if not node:\n",
    "        return []\n",
    "    return inorderTraversal(node.left) + [node.val] + inorderTraversal(node.right)\n",
    "\n",
    "print(inorderTraversal(root))  # Output: [-10, -3, 0, 5, 9]"
   ]
  },
  {
   "cell_type": "code",
   "execution_count": 2,
   "metadata": {},
   "outputs": [
    {
     "name": "stdout",
     "output_type": "stream",
     "text": [
      "Root: 0\n",
      "    L--- -3\n",
      "        L--- -10\n",
      "    R--- 9\n",
      "        L--- 5\n"
     ]
    }
   ],
   "source": [
    "class TreeNode:\n",
    "    def __init__(self, val=0, left=None, right=None):\n",
    "        self.val = val\n",
    "        self.left = left\n",
    "        self.right = right\n",
    "\n",
    "def sortedArrayToBST(nums):\n",
    "    # Base case: if the array is empty, return None\n",
    "    if not nums:\n",
    "        return None\n",
    "    \n",
    "    # Find the middle element\n",
    "    mid = len(nums) // 2\n",
    "    \n",
    "    # Create the root node with the middle element\n",
    "    root = TreeNode(nums[mid])\n",
    "    \n",
    "    # Recursively build the left and right subtrees\n",
    "    root.left = sortedArrayToBST(nums[:mid])  # Left half\n",
    "    root.right = sortedArrayToBST(nums[mid+1:])  # Right half\n",
    "    \n",
    "    return root\n",
    "\n",
    "# Helper function to print the tree graphically\n",
    "def printTree(node, level=0, prefix=\"Root: \"):\n",
    "    if node is not None:\n",
    "        print(\" \" * (level * 4) + prefix + str(node.val))\n",
    "        if node.left or node.right:  # If there are children, print them\n",
    "            printTree(node.left, level + 1, \"L--- \")\n",
    "            printTree(node.right, level + 1, \"R--- \")\n",
    "\n",
    "# Example usage:\n",
    "nums = [-10, -3, 0, 5, 9]\n",
    "root = sortedArrayToBST(nums)\n",
    "\n",
    "# Print the tree graphically\n",
    "printTree(root)"
   ]
  },
  {
   "cell_type": "code",
   "execution_count": 3,
   "metadata": {},
   "outputs": [
    {
     "name": "stdout",
     "output_type": "stream",
     "text": [
      "Test Case 1: nums = []\n",
      "----------------------------------------\n",
      "Test Case 2: nums = [1]\n",
      "Root: 1\n",
      "----------------------------------------\n",
      "Test Case 3: nums = [1, 2]\n",
      "Root: 2\n",
      "    L--- 1\n",
      "----------------------------------------\n",
      "Test Case 4: nums = [1, 2, 3]\n",
      "Root: 2\n",
      "    L--- 1\n",
      "    R--- 3\n",
      "----------------------------------------\n",
      "Test Case 5: nums = [1, 2, 3, 4]\n",
      "Root: 3\n",
      "    L--- 2\n",
      "        L--- 1\n",
      "    R--- 4\n",
      "----------------------------------------\n",
      "Test Case 6: nums = [-10, -3, 0, 5, 9]\n",
      "Root: 0\n",
      "    L--- -3\n",
      "        L--- -10\n",
      "    R--- 9\n",
      "        L--- 5\n",
      "----------------------------------------\n",
      "Test Case 7: nums = [1, 2, 3, 4, 5, 6, 7, 8, 9, 10, 11, 12, 13, 14, 15]\n",
      "Root: 8\n",
      "    L--- 4\n",
      "        L--- 2\n",
      "            L--- 1\n",
      "            R--- 3\n",
      "        R--- 6\n",
      "            L--- 5\n",
      "            R--- 7\n",
      "    R--- 12\n",
      "        L--- 10\n",
      "            L--- 9\n",
      "            R--- 11\n",
      "        R--- 14\n",
      "            L--- 13\n",
      "            R--- 15\n",
      "----------------------------------------\n"
     ]
    }
   ],
   "source": [
    "# Test cases\n",
    "test_cases = [\n",
    "    [],  # Empty array\n",
    "    [1],  # Single element\n",
    "    [1, 2],  # Two elements\n",
    "    [1, 2, 3],  # Odd number of elements\n",
    "    [1, 2, 3, 4],  # Even number of elements\n",
    "    [-10, -3, 0, 5, 9],  # Negative and positive numbers\n",
    "    list(range(1, 16))  # Large array (1 to 15)\n",
    "]\n",
    "\n",
    "# Run the test cases\n",
    "for i, nums in enumerate(test_cases):\n",
    "    print(f\"Test Case {i + 1}: nums = {nums}\")\n",
    "    root = sortedArrayToBST(nums)\n",
    "    printTree(root)\n",
    "    print(\"-\" * 40)"
   ]
  }
 ],
 "metadata": {
  "kernelspec": {
   "display_name": "IITG_Vibe",
   "language": "python",
   "name": "python3"
  },
  "language_info": {
   "codemirror_mode": {
    "name": "ipython",
    "version": 3
   },
   "file_extension": ".py",
   "mimetype": "text/x-python",
   "name": "python",
   "nbconvert_exporter": "python",
   "pygments_lexer": "ipython3",
   "version": "3.12.4"
  }
 },
 "nbformat": 4,
 "nbformat_minor": 2
}
