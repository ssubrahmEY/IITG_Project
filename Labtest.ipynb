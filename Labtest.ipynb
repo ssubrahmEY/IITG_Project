{
 "cells": [
  {
   "cell_type": "code",
   "execution_count": null,
   "metadata": {},
   "outputs": [],
   "source": [
    "def is_palindrome(s):\n",
    "    \"\"\"\n",
    "    Check if a string is a palindrome.\n",
    "    \n",
    "    A palindrome is a string that reads the same forwards and backwards.\n",
    "    \n",
    "    :param s: The string to check.\n",
    "    :return: True if s is a palindrome, False otherwise.\n",
    "    \"\"\"\n",
    "    # Normalize the string by removing spaces and converting to lowercase\n",
    "    normalized_str = ''.join(s.split()).lower()\n",
    "    \n",
    "    # Compare the normalized string with its reverse\n",
    "    return normalized_str == normalized_str[::-1]"
   ]
  },
  {
   "cell_type": "code",
   "execution_count": null,
   "metadata": {},
   "outputs": [],
   "source": [
    "# Check a few test cases\n",
    "\n",
    "# Test cases\n",
    "print(is_palindrome (\"radar\")) # Should print True\n",
    "print(is_palindrome (\"A man, a plan, a canal, Panama\")) # Should print True\n",
    "print(is_palindrome (\"hello\")) # Should print False\n",
    "print(is_palindrome (\"12321\")) # Should print True\n",
    "print (is_palindrome (\"race car\")) # Should print True"
   ]
  }
 ],
 "metadata": {
  "language_info": {
   "name": "python"
  }
 },
 "nbformat": 4,
 "nbformat_minor": 2
}
